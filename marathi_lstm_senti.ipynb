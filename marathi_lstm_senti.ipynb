{
 "cells": [
  {
   "cell_type": "code",
   "execution_count": 8,
   "id": "87039a1d",
   "metadata": {},
   "outputs": [],
   "source": [
    "import pandas as pd\n",
    "import numpy as np\n",
    "from tensorflow.keras.preprocessing.text import Tokenizer\n",
    "from tensorflow.keras.preprocessing.sequence import pad_sequences\n",
    "from tensorflow.keras.models import Sequential\n",
    "from tensorflow.keras.layers import Embedding, LSTM, Dense"
   ]
  },
  {
   "cell_type": "code",
   "execution_count": 3,
   "id": "0901c95a",
   "metadata": {},
   "outputs": [],
   "source": [
    "# Load the data\n",
    "train_data = pd.read_csv('tweets-train.csv')\n",
    "valid_data = pd.read_csv('tweets-valid.csv')\n",
    "test_data = pd.read_csv('tweets-test.csv')"
   ]
  },
  {
   "cell_type": "code",
   "execution_count": 4,
   "id": "1564032b",
   "metadata": {},
   "outputs": [],
   "source": [
    "# Extract the text and labels\n",
    "train_tweets = train_data['tweet'].tolist()\n",
    "train_labels = train_data['label'].tolist()\n",
    "valid_tweets = valid_data['tweet'].tolist()\n",
    "valid_labels = valid_data['label'].tolist()\n",
    "test_tweets = test_data['tweet'].tolist()\n",
    "test_labels = test_data['label'].tolist()"
   ]
  },
  {
   "cell_type": "code",
   "execution_count": 5,
   "id": "310a72d0",
   "metadata": {},
   "outputs": [],
   "source": [
    "# Tokenize the text\n",
    "tokenizer = Tokenizer()\n",
    "tokenizer.fit_on_texts(train_tweets + valid_tweets + test_tweets)\n",
    "\n",
    "# Convert text sequences to numerical sequences\n",
    "train_sequences = tokenizer.texts_to_sequences(train_tweets)\n",
    "valid_sequences = tokenizer.texts_to_sequences(valid_tweets)\n",
    "test_sequences = tokenizer.texts_to_sequences(test_tweets)"
   ]
  },
  {
   "cell_type": "code",
   "execution_count": 6,
   "id": "ac4fde13",
   "metadata": {},
   "outputs": [],
   "source": [
    "# Pad the sequences to a fixed length\n",
    "max_seq_length = 100\n",
    "train_X = pad_sequences(train_sequences, maxlen=max_seq_length)\n",
    "valid_X = pad_sequences(valid_sequences, maxlen=max_seq_length)\n",
    "test_X = pad_sequences(test_sequences, maxlen=max_seq_length)"
   ]
  },
  {
   "cell_type": "code",
   "execution_count": 9,
   "id": "1ded5edc",
   "metadata": {},
   "outputs": [],
   "source": [
    "# Convert labels to numpy arrays\n",
    "train_y = np.array(train_labels)\n",
    "valid_y = np.array(valid_labels)\n",
    "test_y = np.array(test_labels)"
   ]
  },
  {
   "cell_type": "code",
   "execution_count": 10,
   "id": "1eeaad29",
   "metadata": {},
   "outputs": [],
   "source": [
    "# Define the model architecture\n",
    "vocab_size = len(tokenizer.word_index) + 1\n",
    "embedding_dim = 100"
   ]
  },
  {
   "cell_type": "code",
   "execution_count": 11,
   "id": "b2fecb84",
   "metadata": {},
   "outputs": [],
   "source": [
    "model = Sequential()\n",
    "model.add(Embedding(input_dim=vocab_size, output_dim=embedding_dim, input_length=max_seq_length))\n",
    "model.add(LSTM(units=128))\n",
    "model.add(Dense(units=1, activation='sigmoid'))"
   ]
  },
  {
   "cell_type": "code",
   "execution_count": 12,
   "id": "d393db08",
   "metadata": {},
   "outputs": [],
   "source": [
    "# Compile the model\n",
    "model.compile(loss='binary_crossentropy', optimizer='adam', metrics=['accuracy'])"
   ]
  },
  {
   "cell_type": "code",
   "execution_count": 13,
   "id": "74dfafe9",
   "metadata": {},
   "outputs": [
    {
     "name": "stdout",
     "output_type": "stream",
     "text": [
      "Epoch 1/10\n",
      "379/379 [==============================] - 46s 115ms/step - loss: -3.9960 - accuracy: 0.4021 - val_loss: -12.0450 - val_accuracy: 0.4753\n",
      "Epoch 2/10\n",
      "379/379 [==============================] - 45s 118ms/step - loss: -21.4555 - accuracy: 0.5297 - val_loss: -26.2447 - val_accuracy: 0.5140\n",
      "Epoch 3/10\n",
      "379/379 [==============================] - 45s 120ms/step - loss: -31.8228 - accuracy: 0.5636 - val_loss: -35.6631 - val_accuracy: 0.4787\n",
      "Epoch 4/10\n",
      "379/379 [==============================] - 47s 123ms/step - loss: -54.7335 - accuracy: 0.6129 - val_loss: -50.0302 - val_accuracy: 0.5047\n",
      "Epoch 5/10\n",
      "379/379 [==============================] - 46s 122ms/step - loss: -74.8256 - accuracy: 0.6447 - val_loss: -65.7028 - val_accuracy: 0.5013\n",
      "Epoch 6/10\n",
      "379/379 [==============================] - 48s 125ms/step - loss: -93.1177 - accuracy: 0.6529 - val_loss: -71.6731 - val_accuracy: 0.4973\n",
      "Epoch 7/10\n",
      "379/379 [==============================] - 47s 124ms/step - loss: -109.5934 - accuracy: 0.6550 - val_loss: -89.5314 - val_accuracy: 0.5047\n",
      "Epoch 8/10\n",
      "379/379 [==============================] - 47s 124ms/step - loss: -126.3475 - accuracy: 0.6556 - val_loss: -95.7057 - val_accuracy: 0.5020\n",
      "Epoch 9/10\n",
      "379/379 [==============================] - 47s 125ms/step - loss: -142.4041 - accuracy: 0.6585 - val_loss: -52.1263 - val_accuracy: 0.4267\n",
      "Epoch 10/10\n",
      "379/379 [==============================] - 48s 127ms/step - loss: -157.8168 - accuracy: 0.6537 - val_loss: -120.2701 - val_accuracy: 0.5000\n"
     ]
    },
    {
     "data": {
      "text/plain": [
       "<keras.callbacks.History at 0x16910834848>"
      ]
     },
     "execution_count": 13,
     "metadata": {},
     "output_type": "execute_result"
    }
   ],
   "source": [
    "# Train the model\n",
    "model.fit(train_X, train_y, validation_data=(valid_X, valid_y), epochs=10, batch_size=32)"
   ]
  },
  {
   "cell_type": "code",
   "execution_count": 14,
   "id": "c2f5f4d6",
   "metadata": {},
   "outputs": [
    {
     "name": "stdout",
     "output_type": "stream",
     "text": [
      "71/71 [==============================] - 4s 59ms/step - loss: -117.6920 - accuracy: 0.4907\n",
      "Test Loss: -117.69200134277344\n",
      "Test Accuracy: 0.4906666576862335\n"
     ]
    }
   ],
   "source": [
    "# Evaluate the model\n",
    "loss, accuracy = model.evaluate(test_X, test_y)\n",
    "print('Test Loss:', loss)\n",
    "print('Test Accuracy:', accuracy)"
   ]
  },
  {
   "cell_type": "code",
   "execution_count": null,
   "id": "150f10e4",
   "metadata": {},
   "outputs": [],
   "source": []
  }
 ],
 "metadata": {
  "kernelspec": {
   "display_name": "Python 3 (ipykernel)",
   "language": "python",
   "name": "python3"
  },
  "language_info": {
   "codemirror_mode": {
    "name": "ipython",
    "version": 3
   },
   "file_extension": ".py",
   "mimetype": "text/x-python",
   "name": "python",
   "nbconvert_exporter": "python",
   "pygments_lexer": "ipython3",
   "version": "3.7.9"
  }
 },
 "nbformat": 4,
 "nbformat_minor": 5
}
