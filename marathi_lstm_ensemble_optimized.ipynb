{
 "cells": [
  {
   "cell_type": "code",
   "execution_count": 3,
   "id": "1e04dc19",
   "metadata": {},
   "outputs": [
    {
     "name": "stdout",
     "output_type": "stream",
     "text": [
      "Requirement already satisfied: fasttext in c:\\users\\admin\\anaconda3\\envs\\myenv3.7.9\\lib\\site-packages (0.9.2)\n",
      "Requirement already satisfied: pybind11>=2.2 in c:\\users\\admin\\anaconda3\\envs\\myenv3.7.9\\lib\\site-packages (from fasttext) (2.10.4)\n",
      "Requirement already satisfied: setuptools>=0.7.0 in c:\\users\\admin\\anaconda3\\envs\\myenv3.7.9\\lib\\site-packages (from fasttext) (65.6.3)\n",
      "Requirement already satisfied: numpy in c:\\users\\admin\\anaconda3\\envs\\myenv3.7.9\\lib\\site-packages (from fasttext) (1.21.5)\n"
     ]
    }
   ],
   "source": [
    "!pip install fasttext"
   ]
  },
  {
   "cell_type": "code",
   "execution_count": 1,
   "id": "8fac5722",
   "metadata": {},
   "outputs": [],
   "source": [
    "import pandas as pd\n",
    "import numpy as np\n",
    "from tensorflow.keras.preprocessing.text import Tokenizer\n",
    "from tensorflow.keras.preprocessing.sequence import pad_sequences\n",
    "from tensorflow.keras.models import Sequential\n",
    "from tensorflow.keras.layers import Embedding, Bidirectional, LSTM, Dense, Dropout\n",
    "from tensorflow.keras.callbacks import EarlyStopping\n",
    "from sklearn.metrics import accuracy_score\n",
    "from tensorflow.keras.utils import to_categorical\n",
    "from sklearn.utils import shuffle\n",
    "import fasttext"
   ]
  },
  {
   "cell_type": "code",
   "execution_count": 2,
   "id": "b840f7a4",
   "metadata": {},
   "outputs": [],
   "source": [
    "# Load the datasets\n",
    "train_data = pd.read_csv('tweets-ext.csv')\n",
    "test_data = pd.read_csv('tweets-test.csv')\n",
    "val_data = pd.read_csv('tweets-valid.csv')"
   ]
  },
  {
   "cell_type": "code",
   "execution_count": 3,
   "id": "0807e0de",
   "metadata": {},
   "outputs": [],
   "source": [
    "# Preprocess the data\n",
    "X_train = train_data['tweet']\n",
    "y_train = train_data['label']\n",
    "X_test = test_data['tweet']\n",
    "y_test = test_data['label']\n",
    "X_val = val_data['tweet']\n",
    "y_val = val_data['label']"
   ]
  },
  {
   "cell_type": "code",
   "execution_count": 4,
   "id": "c08c96ce",
   "metadata": {},
   "outputs": [],
   "source": [
    "# Preprocess the data\n",
    "train_text = train_data['tweet'].tolist()\n",
    "train_labels = train_data['label'].tolist()\n",
    "test_text = test_data['tweet'].tolist()\n",
    "test_labels = test_data['label'].tolist()\n",
    "val_text = val_data['tweet'].tolist()\n",
    "val_labels = val_data['label'].tolist()"
   ]
  },
  {
   "cell_type": "code",
   "execution_count": 5,
   "id": "2a5cfc78",
   "metadata": {},
   "outputs": [],
   "source": [
    "# Tokenize the text\n",
    "tokenizer = Tokenizer()\n",
    "tokenizer.fit_on_texts(train_text + test_text + val_text)"
   ]
  },
  {
   "cell_type": "code",
   "execution_count": 6,
   "id": "9be63480",
   "metadata": {},
   "outputs": [],
   "source": [
    "# Convert text sequences to numerical sequences\n",
    "train_sequences = tokenizer.texts_to_sequences(train_text)\n",
    "test_sequences = tokenizer.texts_to_sequences(test_text)\n",
    "val_sequences = tokenizer.texts_to_sequences(val_text)"
   ]
  },
  {
   "cell_type": "code",
   "execution_count": 7,
   "id": "fbcb80ef",
   "metadata": {},
   "outputs": [],
   "source": [
    "# Pad the sequences to a fixed length\n",
    "max_seq_length = 280\n",
    "train_X = pad_sequences(train_sequences, maxlen=max_seq_length)\n",
    "test_X = pad_sequences(test_sequences, maxlen=max_seq_length)\n",
    "val_X = pad_sequences(val_sequences, maxlen=max_seq_length)"
   ]
  },
  {
   "cell_type": "code",
   "execution_count": 8,
   "id": "8cc8c56c",
   "metadata": {},
   "outputs": [],
   "source": [
    "# Convert labels to categorical format\n",
    "num_classes = len(set(train_labels))\n",
    "train_y = to_categorical(train_labels, num_classes=num_classes)\n",
    "test_y = to_categorical(test_labels, num_classes=num_classes)\n",
    "val_y = to_categorical(val_labels, num_classes=num_classes)"
   ]
  },
  {
   "cell_type": "code",
   "execution_count": 9,
   "id": "86d05159",
   "metadata": {},
   "outputs": [
    {
     "name": "stderr",
     "output_type": "stream",
     "text": [
      "Warning : `load_model` does not return WordVectorModel or SupervisedModel any more, but a `FastText` object which is very similar.\n"
     ]
    }
   ],
   "source": [
    "# Load FastText word embeddings for Marathi\n",
    "embedding_path = 'wiki.mr.bin'\n",
    "embedding_model = fasttext.load_model(embedding_path)"
   ]
  },
  {
   "cell_type": "code",
   "execution_count": 10,
   "id": "677f73f2",
   "metadata": {},
   "outputs": [],
   "source": [
    "# Create the embedding matrix\n",
    "word_index = tokenizer.word_index\n",
    "num_words = len(word_index) + 1\n",
    "embedding_dim = embedding_model.get_dimension()\n",
    "embedding_matrix = np.zeros((num_words, embedding_dim))\n",
    "for word, i in word_index.items():\n",
    "    if word in embedding_model:\n",
    "        embedding_matrix[i] = embedding_model[word]"
   ]
  },
  {
   "cell_type": "code",
   "execution_count": 11,
   "id": "eca87c6a",
   "metadata": {},
   "outputs": [],
   "source": [
    "# Define the ensemble models\n",
    "num_models = 5\n",
    "model_list = []"
   ]
  },
  {
   "cell_type": "code",
   "execution_count": 12,
   "id": "a4c2afd0",
   "metadata": {},
   "outputs": [
    {
     "name": "stdout",
     "output_type": "stream",
     "text": [
      "Epoch 1/10\n",
      "458/458 [==============================] - 667s 1s/step - loss: 0.6884 - accuracy: 0.7026 - val_loss: 0.6129 - val_accuracy: 0.7413\n",
      "Epoch 2/10\n",
      "458/458 [==============================] - 643s 1s/step - loss: 0.5599 - accuracy: 0.7728 - val_loss: 0.6044 - val_accuracy: 0.7560\n",
      "Epoch 3/10\n",
      "458/458 [==============================] - 748s 2s/step - loss: 0.5198 - accuracy: 0.7896 - val_loss: 0.4897 - val_accuracy: 0.7980\n",
      "Epoch 4/10\n",
      "458/458 [==============================] - 1052s 2s/step - loss: 0.4735 - accuracy: 0.8118 - val_loss: 0.6255 - val_accuracy: 0.7600\n",
      "Epoch 5/10\n",
      "458/458 [==============================] - 998s 2s/step - loss: 0.4575 - accuracy: 0.8160 - val_loss: 0.4962 - val_accuracy: 0.8033\n",
      "Epoch 6/10\n",
      "458/458 [==============================] - 527s 1s/step - loss: 0.4033 - accuracy: 0.8378 - val_loss: 0.5773 - val_accuracy: 0.7700\n",
      "Epoch 7/10\n",
      "458/458 [==============================] - 520s 1s/step - loss: 0.3577 - accuracy: 0.8587 - val_loss: 0.5275 - val_accuracy: 0.8053\n",
      "Epoch 8/10\n",
      "458/458 [==============================] - 517s 1s/step - loss: 0.3205 - accuracy: 0.8738 - val_loss: 0.5220 - val_accuracy: 0.7867\n",
      "Epoch 9/10\n",
      "458/458 [==============================] - 515s 1s/step - loss: 0.2855 - accuracy: 0.8889 - val_loss: 0.6097 - val_accuracy: 0.7820\n",
      "Epoch 10/10\n",
      "458/458 [==============================] - 536s 1s/step - loss: 0.2429 - accuracy: 0.9067 - val_loss: 0.6292 - val_accuracy: 0.7720\n",
      "Epoch 1/10\n",
      "458/458 [==============================] - 560s 1s/step - loss: 0.6992 - accuracy: 0.6973 - val_loss: 0.6395 - val_accuracy: 0.7473\n",
      "Epoch 2/10\n",
      "458/458 [==============================] - 503s 1s/step - loss: 0.5627 - accuracy: 0.7697 - val_loss: 0.5646 - val_accuracy: 0.7700\n",
      "Epoch 3/10\n",
      "458/458 [==============================] - 476s 1s/step - loss: 0.5168 - accuracy: 0.7931 - val_loss: 0.5131 - val_accuracy: 0.7820\n",
      "Epoch 4/10\n",
      "458/458 [==============================] - 492s 1s/step - loss: 0.4730 - accuracy: 0.8106 - val_loss: 0.4690 - val_accuracy: 0.8080\n",
      "Epoch 5/10\n",
      "458/458 [==============================] - 504s 1s/step - loss: 0.4472 - accuracy: 0.8192 - val_loss: 0.4973 - val_accuracy: 0.7893\n",
      "Epoch 6/10\n",
      "458/458 [==============================] - 494s 1s/step - loss: 0.3962 - accuracy: 0.8391 - val_loss: 0.4793 - val_accuracy: 0.8113\n",
      "Epoch 7/10\n",
      "458/458 [==============================] - 435s 950ms/step - loss: 0.3489 - accuracy: 0.8599 - val_loss: 0.5148 - val_accuracy: 0.7953\n",
      "Epoch 8/10\n",
      "458/458 [==============================] - 444s 970ms/step - loss: 0.3127 - accuracy: 0.8791 - val_loss: 0.5398 - val_accuracy: 0.7980\n",
      "Epoch 9/10\n",
      "458/458 [==============================] - 440s 961ms/step - loss: 0.2712 - accuracy: 0.8955 - val_loss: 0.6260 - val_accuracy: 0.7820\n",
      "Epoch 10/10\n",
      "458/458 [==============================] - 430s 938ms/step - loss: 0.2247 - accuracy: 0.9150 - val_loss: 0.6087 - val_accuracy: 0.7933\n",
      "Epoch 1/10\n",
      "458/458 [==============================] - 462s 996ms/step - loss: 0.7024 - accuracy: 0.6967 - val_loss: 0.5691 - val_accuracy: 0.7673\n",
      "Epoch 2/10\n",
      "458/458 [==============================] - 344s 752ms/step - loss: 0.5570 - accuracy: 0.7713 - val_loss: 0.5908 - val_accuracy: 0.7440\n",
      "Epoch 3/10\n",
      "458/458 [==============================] - 359s 785ms/step - loss: 0.5128 - accuracy: 0.7940 - val_loss: 0.5526 - val_accuracy: 0.7720\n",
      "Epoch 4/10\n",
      "458/458 [==============================] - 350s 765ms/step - loss: 0.4858 - accuracy: 0.8013 - val_loss: 0.8791 - val_accuracy: 0.5320\n",
      "Epoch 5/10\n",
      "458/458 [==============================] - 341s 745ms/step - loss: 0.5360 - accuracy: 0.7797 - val_loss: 0.4954 - val_accuracy: 0.7927\n",
      "Epoch 6/10\n",
      "458/458 [==============================] - 339s 740ms/step - loss: 0.4402 - accuracy: 0.8208 - val_loss: 0.5243 - val_accuracy: 0.7940\n",
      "Epoch 7/10\n",
      "458/458 [==============================] - 337s 736ms/step - loss: 0.3946 - accuracy: 0.8454 - val_loss: 0.5590 - val_accuracy: 0.7820\n",
      "Epoch 8/10\n",
      "458/458 [==============================] - 343s 748ms/step - loss: 0.3596 - accuracy: 0.8573 - val_loss: 0.5091 - val_accuracy: 0.7960\n",
      "Epoch 9/10\n",
      "458/458 [==============================] - 346s 757ms/step - loss: 0.3157 - accuracy: 0.8763 - val_loss: 0.5239 - val_accuracy: 0.7980\n",
      "Epoch 10/10\n",
      "458/458 [==============================] - 348s 759ms/step - loss: 0.2747 - accuracy: 0.8947 - val_loss: 0.5875 - val_accuracy: 0.7807\n",
      "Epoch 1/10\n",
      "458/458 [==============================] - 359s 770ms/step - loss: 0.6981 - accuracy: 0.7011 - val_loss: 0.5824 - val_accuracy: 0.7473\n",
      "Epoch 2/10\n",
      "458/458 [==============================] - 352s 770ms/step - loss: 0.5618 - accuracy: 0.7739 - val_loss: 0.5276 - val_accuracy: 0.7807\n",
      "Epoch 3/10\n",
      "458/458 [==============================] - 344s 751ms/step - loss: 0.5174 - accuracy: 0.7911 - val_loss: 0.5383 - val_accuracy: 0.7687\n",
      "Epoch 4/10\n",
      "458/458 [==============================] - 345s 754ms/step - loss: 0.4692 - accuracy: 0.8109 - val_loss: 0.5537 - val_accuracy: 0.7700\n",
      "Epoch 5/10\n",
      "458/458 [==============================] - 346s 756ms/step - loss: 0.4363 - accuracy: 0.8270 - val_loss: 0.4812 - val_accuracy: 0.8040\n",
      "Epoch 6/10\n",
      "458/458 [==============================] - 345s 754ms/step - loss: 0.4059 - accuracy: 0.8367 - val_loss: 0.5675 - val_accuracy: 0.7740\n",
      "Epoch 7/10\n",
      "458/458 [==============================] - 341s 744ms/step - loss: 0.3708 - accuracy: 0.8500 - val_loss: 0.5333 - val_accuracy: 0.7993\n",
      "Epoch 8/10\n",
      "458/458 [==============================] - 346s 755ms/step - loss: 0.3237 - accuracy: 0.8746 - val_loss: 0.5313 - val_accuracy: 0.7973\n",
      "Epoch 9/10\n",
      "458/458 [==============================] - 350s 765ms/step - loss: 0.2804 - accuracy: 0.8902 - val_loss: 0.5206 - val_accuracy: 0.7960\n",
      "Epoch 10/10\n",
      "458/458 [==============================] - 360s 787ms/step - loss: 0.2285 - accuracy: 0.9145 - val_loss: 0.7039 - val_accuracy: 0.7927\n",
      "Epoch 1/10\n",
      "458/458 [==============================] - 392s 835ms/step - loss: 0.7042 - accuracy: 0.6918 - val_loss: 0.5469 - val_accuracy: 0.7660\n",
      "Epoch 2/10\n",
      "458/458 [==============================] - 392s 856ms/step - loss: 0.5622 - accuracy: 0.7654 - val_loss: 0.5779 - val_accuracy: 0.7633\n",
      "Epoch 3/10\n",
      "458/458 [==============================] - 391s 853ms/step - loss: 0.5157 - accuracy: 0.7925 - val_loss: 0.5322 - val_accuracy: 0.7747\n",
      "Epoch 4/10\n",
      "458/458 [==============================] - 392s 856ms/step - loss: 0.4673 - accuracy: 0.8113 - val_loss: 0.4883 - val_accuracy: 0.7940\n",
      "Epoch 5/10\n",
      "458/458 [==============================] - 393s 857ms/step - loss: 0.4338 - accuracy: 0.8256 - val_loss: 0.5092 - val_accuracy: 0.7953\n",
      "Epoch 6/10\n",
      "458/458 [==============================] - 393s 858ms/step - loss: 0.4092 - accuracy: 0.8373 - val_loss: 0.5192 - val_accuracy: 0.7920\n",
      "Epoch 7/10\n",
      "458/458 [==============================] - 394s 861ms/step - loss: 0.3602 - accuracy: 0.8584 - val_loss: 0.6002 - val_accuracy: 0.7680\n",
      "Epoch 8/10\n",
      "458/458 [==============================] - 590s 1s/step - loss: 0.3920 - accuracy: 0.8512 - val_loss: 0.5226 - val_accuracy: 0.7840\n",
      "Epoch 9/10\n",
      "458/458 [==============================] - 817s 2s/step - loss: 0.2858 - accuracy: 0.8886 - val_loss: 0.6133 - val_accuracy: 0.7827\n",
      "Epoch 10/10\n",
      "458/458 [==============================] - 824s 2s/step - loss: 0.2441 - accuracy: 0.9061 - val_loss: 0.6235 - val_accuracy: 0.7873\n"
     ]
    }
   ],
   "source": [
    "# Train individual models\n",
    "for _ in range(num_models):\n",
    "    model = Sequential()\n",
    "    model.add(Embedding(num_words, embedding_dim, input_length=max_seq_length, weights=[embedding_matrix], trainable=False))\n",
    "    model.add(Bidirectional(LSTM(128, return_sequences=True)))\n",
    "    model.add(Dropout(0.3))\n",
    "    model.add(Bidirectional(LSTM(64)))\n",
    "    model.add(Dropout(0.3))\n",
    "    model.add(Dense(64, activation='relu'))\n",
    "    model.add(Dropout(0.3))\n",
    "    model.add(Dense(num_classes, activation='softmax'))\n",
    "    model.compile(loss='categorical_crossentropy', optimizer='adam', metrics=['accuracy'])\n",
    "\n",
    "    # Train the model\n",
    "    model.fit(train_X, train_y, validation_data=(val_X, val_y), epochs=10, batch_size=32)\n",
    "    model_list.append(model)"
   ]
  },
  {
   "cell_type": "code",
   "execution_count": 29,
   "id": "cfd07174",
   "metadata": {},
   "outputs": [
    {
     "name": "stdout",
     "output_type": "stream",
     "text": [
      "47/47 [==============================] - 27s 582ms/step\n",
      "47/47 [==============================] - 27s 582ms/step\n",
      "47/47 [==============================] - 28s 595ms/step\n",
      "47/47 [==============================] - 27s 582ms/step\n",
      "47/47 [==============================] - 28s 586ms/step\n"
     ]
    }
   ],
   "source": [
    "# Generate predictions for validation data\n",
    "val_predictions = []\n",
    "for model in model_list:\n",
    "    predictions = model.predict(val_X)\n",
    "    predicted_classes = np.argmax(predictions, axis=1)\n",
    "    val_predictions.append(predicted_classes)"
   ]
  },
  {
   "cell_type": "code",
   "execution_count": 30,
   "id": "dce65351",
   "metadata": {},
   "outputs": [],
   "source": [
    "# Combine predictions using majority voting\n",
    "ensemble_val_predictions = np.round(np.mean(val_predictions, axis=0))"
   ]
  },
  {
   "cell_type": "code",
   "execution_count": 31,
   "id": "60185d11",
   "metadata": {},
   "outputs": [],
   "source": [
    "# Evaluate the ensemble predictions\n",
    "ensemble_val_accuracy = accuracy_score(np.argmax(val_y, axis=1), ensemble_val_predictions)"
   ]
  },
  {
   "cell_type": "code",
   "execution_count": 32,
   "id": "2ba4ab4c",
   "metadata": {},
   "outputs": [
    {
     "name": "stdout",
     "output_type": "stream",
     "text": [
      "Ensemble Validation Accuracy: 0.7826666666666666\n"
     ]
    }
   ],
   "source": [
    "print(\"Ensemble Validation Accuracy:\", ensemble_val_accuracy)"
   ]
  },
  {
   "cell_type": "code",
   "execution_count": 25,
   "id": "7cf2877b",
   "metadata": {},
   "outputs": [
    {
     "name": "stdout",
     "output_type": "stream",
     "text": [
      "71/71 [==============================] - 41s 574ms/step\n",
      "71/71 [==============================] - 40s 570ms/step\n",
      "71/71 [==============================] - 40s 568ms/step\n",
      "71/71 [==============================] - 40s 561ms/step\n",
      "71/71 [==============================] - 41s 573ms/step\n"
     ]
    }
   ],
   "source": [
    "# Generate predictions for test data\n",
    "test_predictions = []\n",
    "for model in model_list:\n",
    "    predictions = model.predict(test_X)\n",
    "    predicted_classes = np.argmax(predictions, axis=1)\n",
    "    test_predictions.append(predicted_classes)"
   ]
  },
  {
   "cell_type": "code",
   "execution_count": 26,
   "id": "8dae0676",
   "metadata": {},
   "outputs": [],
   "source": [
    "# Combine predictions using majority voting\n",
    "ensemble_test_predictions = np.round(np.mean(test_predictions, axis=0))"
   ]
  },
  {
   "cell_type": "code",
   "execution_count": 27,
   "id": "d3eb1d48",
   "metadata": {},
   "outputs": [],
   "source": [
    "# Evaluate the ensemble predictions\n",
    "ensemble_test_accuracy = accuracy_score(np.argmax(test_y, axis=1), ensemble_test_predictions)"
   ]
  },
  {
   "cell_type": "code",
   "execution_count": 28,
   "id": "cd306228",
   "metadata": {},
   "outputs": [
    {
     "name": "stdout",
     "output_type": "stream",
     "text": [
      "Ensemble Test Accuracy: 0.7924444444444444\n"
     ]
    }
   ],
   "source": [
    "print(\"Ensemble Test Accuracy:\", ensemble_test_accuracy)\n"
   ]
  },
  {
   "cell_type": "code",
   "execution_count": null,
   "id": "c8eb9847",
   "metadata": {},
   "outputs": [],
   "source": []
  }
 ],
 "metadata": {
  "kernelspec": {
   "display_name": "Python 3 (ipykernel)",
   "language": "python",
   "name": "python3"
  },
  "language_info": {
   "codemirror_mode": {
    "name": "ipython",
    "version": 3
   },
   "file_extension": ".py",
   "mimetype": "text/x-python",
   "name": "python",
   "nbconvert_exporter": "python",
   "pygments_lexer": "ipython3",
   "version": "3.7.9"
  }
 },
 "nbformat": 4,
 "nbformat_minor": 5
}
