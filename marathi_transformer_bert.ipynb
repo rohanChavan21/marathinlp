{
 "cells": [
  {
   "cell_type": "code",
   "execution_count": 1,
   "id": "3b794285",
   "metadata": {},
   "outputs": [],
   "source": [
    "import pandas as pd\n",
    "import numpy as np\n",
    "import tensorflow as tf\n",
    "from tensorflow.keras.preprocessing.text import Tokenizer\n",
    "from tensorflow.keras.preprocessing.sequence import pad_sequences\n",
    "from transformers import TFAutoModel, AutoTokenizer\n",
    "from tensorflow.keras.models import Sequential, Model\n",
    "from tensorflow.keras.layers import Embedding, LSTM, Dense, Input"
   ]
  },
  {
   "cell_type": "code",
   "execution_count": 2,
   "id": "2d3b96a7",
   "metadata": {},
   "outputs": [],
   "source": [
    "# Load the data\n",
    "train_data = pd.read_csv('tweets-train.csv')\n",
    "valid_data = pd.read_csv('tweets-valid.csv')\n",
    "test_data = pd.read_csv('tweets-test.csv')"
   ]
  },
  {
   "cell_type": "code",
   "execution_count": 3,
   "id": "38414231",
   "metadata": {},
   "outputs": [],
   "source": [
    "# Extract the text and labels\n",
    "train_tweets = train_data['tweet'].tolist()\n",
    "train_labels = train_data['label'].tolist()\n",
    "valid_tweets = valid_data['tweet'].tolist()\n",
    "valid_labels = valid_data['label'].tolist()\n",
    "test_tweets = test_data['tweet'].tolist()\n",
    "test_labels = test_data['label'].tolist()"
   ]
  },
  {
   "cell_type": "code",
   "execution_count": 4,
   "id": "ae9f69c8",
   "metadata": {},
   "outputs": [
    {
     "name": "stderr",
     "output_type": "stream",
     "text": [
      "Some layers from the model checkpoint at bert-base-uncased were not used when initializing TFBertModel: ['mlm___cls', 'nsp___cls']\n",
      "- This IS expected if you are initializing TFBertModel from the checkpoint of a model trained on another task or with another architecture (e.g. initializing a BertForSequenceClassification model from a BertForPreTraining model).\n",
      "- This IS NOT expected if you are initializing TFBertModel from the checkpoint of a model that you expect to be exactly identical (initializing a BertForSequenceClassification model from a BertForSequenceClassification model).\n",
      "All the layers of TFBertModel were initialized from the model checkpoint at bert-base-uncased.\n",
      "If your task is similar to the task the model of the checkpoint was trained on, you can already use TFBertModel for predictions without further training.\n"
     ]
    }
   ],
   "source": [
    "# Load the pre-trained transformer model and tokenizer\n",
    "transformer_model = TFAutoModel.from_pretrained('bert-base-uncased')\n",
    "tokenizer = AutoTokenizer.from_pretrained('bert-base-uncased')"
   ]
  },
  {
   "cell_type": "code",
   "execution_count": 5,
   "id": "181f33b8",
   "metadata": {},
   "outputs": [],
   "source": [
    "# Tokenize the input text\n",
    "max_length = 280\n",
    "train_encodings = tokenizer(train_tweets, truncation=True, padding=True, max_length=max_length)\n",
    "valid_encodings = tokenizer(valid_tweets, truncation=True, padding=True, max_length=max_length)\n",
    "test_encodings = tokenizer(test_tweets, truncation=True, padding=True, max_length=max_length)"
   ]
  },
  {
   "cell_type": "code",
   "execution_count": 6,
   "id": "b4b2fc88",
   "metadata": {},
   "outputs": [],
   "source": [
    "# Convert labels to numpy arrays\n",
    "train_labels = np.array(train_labels)\n",
    "valid_labels = np.array(valid_labels)\n",
    "test_labels = np.array(test_labels)"
   ]
  },
  {
   "cell_type": "code",
   "execution_count": 7,
   "id": "66183fae",
   "metadata": {},
   "outputs": [],
   "source": [
    "# Create input tensors\n",
    "train_input_ids = tf.constant(pad_sequences(train_encodings['input_ids'], maxlen=max_length))\n",
    "train_attention_mask = tf.constant(pad_sequences(train_encodings['attention_mask'], maxlen=max_length))\n",
    "valid_input_ids = tf.constant(pad_sequences(valid_encodings['input_ids'], maxlen=max_length))\n",
    "valid_attention_mask = tf.constant(pad_sequences(valid_encodings['attention_mask'], maxlen=max_length))\n",
    "test_input_ids = tf.constant(pad_sequences(test_encodings['input_ids'], maxlen=max_length))\n",
    "test_attention_mask = tf.constant(pad_sequences(test_encodings['attention_mask'], maxlen=max_length))"
   ]
  },
  {
   "cell_type": "code",
   "execution_count": 8,
   "id": "781f646e",
   "metadata": {},
   "outputs": [],
   "source": [
    "# Define the input layers\n",
    "input_ids = Input(shape=(max_length,), dtype=tf.int32, name='input_ids')\n",
    "attention_mask = Input(shape=(max_length,), dtype=tf.int32, name='attention_mask')"
   ]
  },
  {
   "cell_type": "code",
   "execution_count": 9,
   "id": "8817a55f",
   "metadata": {},
   "outputs": [],
   "source": [
    "# Build the transformer model\n",
    "transformer_output = transformer_model({'input_ids': input_ids, 'attention_mask': attention_mask})[0]"
   ]
  },
  {
   "cell_type": "code",
   "execution_count": 10,
   "id": "6d49957e",
   "metadata": {},
   "outputs": [],
   "source": [
    "# Add a classification layer\n",
    "output = Dense(units=1, activation='sigmoid')(transformer_output[:, 0, :])"
   ]
  },
  {
   "cell_type": "code",
   "execution_count": 11,
   "id": "003c5393",
   "metadata": {},
   "outputs": [],
   "source": [
    "# Make the BERT layers trainable\n",
    "for layer in transformer_model.layers:\n",
    "    layer.trainable = True"
   ]
  },
  {
   "cell_type": "code",
   "execution_count": 12,
   "id": "58c1d9e5",
   "metadata": {},
   "outputs": [],
   "source": [
    "# Create the model\n",
    "model = Model(inputs=[input_ids, attention_mask], outputs=output)"
   ]
  },
  {
   "cell_type": "code",
   "execution_count": 13,
   "id": "2b1b0722",
   "metadata": {},
   "outputs": [],
   "source": [
    "# Compile the model\n",
    "model.compile(optimizer='adam', loss='binary_crossentropy', metrics=['accuracy'])"
   ]
  },
  {
   "cell_type": "code",
   "execution_count": null,
   "id": "63ce07d4",
   "metadata": {},
   "outputs": [
    {
     "name": "stdout",
     "output_type": "stream",
     "text": [
      "Epoch 1/5\n",
      "WARNING:tensorflow:Gradients do not exist for variables ['tf_bert_model/bert/pooler/dense/kernel:0', 'tf_bert_model/bert/pooler/dense/bias:0'] when minimizing the loss. If you're using `model.compile()`, did you forget to provide a `loss` argument?\n",
      "WARNING:tensorflow:Gradients do not exist for variables ['tf_bert_model/bert/pooler/dense/kernel:0', 'tf_bert_model/bert/pooler/dense/bias:0'] when minimizing the loss. If you're using `model.compile()`, did you forget to provide a `loss` argument?\n",
      "  7/379 [..............................] - ETA: 4:53:33 - loss: 2.7907 - accuracy: 0.3348"
     ]
    }
   ],
   "source": [
    "# Train the model\n",
    "model.fit([train_input_ids, train_attention_mask], train_labels, validation_data=([valid_input_ids, valid_attention_mask], valid_labels), epochs=5\n",
    "          , batch_size=32)"
   ]
  },
  {
   "cell_type": "code",
   "execution_count": null,
   "id": "1cc08add",
   "metadata": {},
   "outputs": [],
   "source": []
  }
 ],
 "metadata": {
  "kernelspec": {
   "display_name": "Python 3 (ipykernel)",
   "language": "python",
   "name": "python3"
  },
  "language_info": {
   "codemirror_mode": {
    "name": "ipython",
    "version": 3
   },
   "file_extension": ".py",
   "mimetype": "text/x-python",
   "name": "python",
   "nbconvert_exporter": "python",
   "pygments_lexer": "ipython3",
   "version": "3.7.9"
  }
 },
 "nbformat": 4,
 "nbformat_minor": 5
}
