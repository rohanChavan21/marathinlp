{
 "cells": [
  {
   "cell_type": "code",
   "execution_count": 1,
   "id": "d46bf995",
   "metadata": {},
   "outputs": [],
   "source": [
    "import pandas as pd\n",
    "import numpy as np\n",
    "from tensorflow.keras.preprocessing.text import Tokenizer\n",
    "from tensorflow.keras.preprocessing.sequence import pad_sequences\n",
    "from tensorflow.keras.models import Sequential\n",
    "from tensorflow.keras.layers import Embedding, LSTM, Dense\n",
    "from sklearn.metrics import accuracy_score"
   ]
  },
  {
   "cell_type": "code",
   "execution_count": 2,
   "id": "04af1d3d",
   "metadata": {},
   "outputs": [],
   "source": [
    "# Load the datasets\n",
    "train_data = pd.read_csv('tweets-ext.csv')\n",
    "test_data = pd.read_csv('tweets-test.csv')\n",
    "val_data = pd.read_csv('tweets-valid.csv')"
   ]
  },
  {
   "cell_type": "code",
   "execution_count": 3,
   "id": "7d1d051c",
   "metadata": {},
   "outputs": [],
   "source": [
    "# Preprocess the data\n",
    "X_train = train_data['tweet']\n",
    "y_train = train_data['label']\n",
    "X_test = test_data['tweet']\n",
    "y_test = test_data['label']\n",
    "X_val = val_data['tweet']\n",
    "y_val = val_data['label']"
   ]
  },
  {
   "cell_type": "code",
   "execution_count": 4,
   "id": "711c3326",
   "metadata": {},
   "outputs": [],
   "source": [
    "# Tokenize the text\n",
    "tokenizer = Tokenizer()\n",
    "tokenizer.fit_on_texts(X_train)"
   ]
  },
  {
   "cell_type": "code",
   "execution_count": 5,
   "id": "7c67281e",
   "metadata": {},
   "outputs": [],
   "source": [
    "# Convert text sequences to numerical sequences\n",
    "train_sequences = tokenizer.texts_to_sequences(X_train)\n",
    "test_sequences = tokenizer.texts_to_sequences(X_test)\n",
    "val_sequences = tokenizer.texts_to_sequences(X_val)"
   ]
  },
  {
   "cell_type": "code",
   "execution_count": 6,
   "id": "54637a7e",
   "metadata": {},
   "outputs": [],
   "source": [
    "# Pad the sequences to a fixed length\n",
    "max_seq_length = 280\n",
    "train_X = pad_sequences(train_sequences, maxlen=max_seq_length)\n",
    "test_X = pad_sequences(test_sequences, maxlen=max_seq_length)\n",
    "val_X = pad_sequences(val_sequences, maxlen=max_seq_length)"
   ]
  },
  {
   "cell_type": "code",
   "execution_count": 7,
   "id": "5c94cf6e",
   "metadata": {},
   "outputs": [],
   "source": [
    "# Define the ensemble models\n",
    "num_models = 5\n",
    "model_list = []"
   ]
  },
  {
   "cell_type": "code",
   "execution_count": 8,
   "id": "66003810",
   "metadata": {},
   "outputs": [
    {
     "name": "stdout",
     "output_type": "stream",
     "text": [
      "Epoch 1/10\n",
      "458/458 [==============================] - 147s 313ms/step - loss: -1.0231 - accuracy: 0.4084 - val_loss: -9.3039 - val_accuracy: 0.5107\n",
      "Epoch 2/10\n",
      "458/458 [==============================] - 170s 372ms/step - loss: -5.8445 - accuracy: 0.5038 - val_loss: -13.6890 - val_accuracy: 0.4960\n",
      "Epoch 3/10\n",
      "458/458 [==============================] - 184s 402ms/step - loss: -22.8329 - accuracy: 0.6332 - val_loss: -30.3062 - val_accuracy: 0.4507\n",
      "Epoch 4/10\n",
      "458/458 [==============================] - 190s 414ms/step - loss: -40.5904 - accuracy: 0.6708 - val_loss: -42.0731 - val_accuracy: 0.3673\n",
      "Epoch 5/10\n",
      "458/458 [==============================] - 185s 404ms/step - loss: -62.1897 - accuracy: 0.6912 - val_loss: -49.3400 - val_accuracy: 0.3567\n",
      "Epoch 6/10\n",
      "458/458 [==============================] - 181s 394ms/step - loss: -80.7310 - accuracy: 0.6996 - val_loss: -64.0423 - val_accuracy: 0.3600\n",
      "Epoch 7/10\n",
      "458/458 [==============================] - 188s 411ms/step - loss: -98.2765 - accuracy: 0.7056 - val_loss: -73.5181 - val_accuracy: 0.3580\n",
      "Epoch 8/10\n",
      "458/458 [==============================] - 290s 633ms/step - loss: -114.9669 - accuracy: 0.7049 - val_loss: -93.3227 - val_accuracy: 0.3633\n",
      "Epoch 9/10\n",
      "458/458 [==============================] - 291s 634ms/step - loss: -130.8824 - accuracy: 0.7033 - val_loss: -106.9973 - val_accuracy: 0.3580\n",
      "Epoch 10/10\n",
      "458/458 [==============================] - 234s 510ms/step - loss: -147.2507 - accuracy: 0.7062 - val_loss: -117.9872 - val_accuracy: 0.3600\n",
      "Epoch 1/10\n",
      "458/458 [==============================] - 168s 349ms/step - loss: 0.7991 - accuracy: 0.3509 - val_loss: 5.0657e-04 - val_accuracy: 0.3333\n",
      "Epoch 2/10\n",
      "458/458 [==============================] - 163s 355ms/step - loss: -2.1732 - accuracy: 0.4295 - val_loss: -10.1310 - val_accuracy: 0.4960\n",
      "Epoch 3/10\n",
      "458/458 [==============================] - 166s 362ms/step - loss: -16.7539 - accuracy: 0.6000 - val_loss: -26.5031 - val_accuracy: 0.4893\n",
      "Epoch 4/10\n",
      "458/458 [==============================] - 169s 368ms/step - loss: -35.1178 - accuracy: 0.6496 - val_loss: -41.7360 - val_accuracy: 0.4573\n",
      "Epoch 5/10\n",
      "458/458 [==============================] - 172s 376ms/step - loss: -54.8522 - accuracy: 0.6797 - val_loss: -56.0746 - val_accuracy: 0.4413\n",
      "Epoch 6/10\n",
      "458/458 [==============================] - 158s 346ms/step - loss: -74.0193 - accuracy: 0.6952 - val_loss: -63.7570 - val_accuracy: 0.3560\n",
      "Epoch 7/10\n",
      "458/458 [==============================] - 164s 357ms/step - loss: -91.7897 - accuracy: 0.7017 - val_loss: -77.7133 - val_accuracy: 0.3587\n",
      "Epoch 8/10\n",
      "458/458 [==============================] - 159s 347ms/step - loss: -108.7160 - accuracy: 0.7024 - val_loss: -89.6594 - val_accuracy: 0.3627\n",
      "Epoch 9/10\n",
      "458/458 [==============================] - 161s 353ms/step - loss: -125.1990 - accuracy: 0.7049 - val_loss: -92.7319 - val_accuracy: 0.3587\n",
      "Epoch 10/10\n",
      "458/458 [==============================] - 156s 340ms/step - loss: -141.4702 - accuracy: 0.7070 - val_loss: -108.3320 - val_accuracy: 0.3633\n",
      "Epoch 1/10\n",
      "458/458 [==============================] - 170s 353ms/step - loss: -2.0480 - accuracy: 0.4348 - val_loss: -10.8638 - val_accuracy: 0.4947\n",
      "Epoch 2/10\n",
      "458/458 [==============================] - 155s 339ms/step - loss: -14.3304 - accuracy: 0.5824 - val_loss: -22.3220 - val_accuracy: 0.5073\n",
      "Epoch 3/10\n",
      "458/458 [==============================] - 171s 374ms/step - loss: -34.5145 - accuracy: 0.6610 - val_loss: -36.0902 - val_accuracy: 0.3620\n",
      "Epoch 4/10\n",
      "458/458 [==============================] - 169s 369ms/step - loss: -54.8069 - accuracy: 0.6881 - val_loss: -52.9982 - val_accuracy: 0.3627\n",
      "Epoch 5/10\n",
      "458/458 [==============================] - 170s 371ms/step - loss: -73.6935 - accuracy: 0.6993 - val_loss: -63.7081 - val_accuracy: 0.3633\n",
      "Epoch 6/10\n",
      "458/458 [==============================] - 150s 327ms/step - loss: -90.8312 - accuracy: 0.7030 - val_loss: -67.8260 - val_accuracy: 0.3627\n",
      "Epoch 7/10\n",
      "458/458 [==============================] - 143s 311ms/step - loss: -107.5285 - accuracy: 0.7032 - val_loss: -79.3796 - val_accuracy: 0.3640\n",
      "Epoch 8/10\n",
      "458/458 [==============================] - 142s 310ms/step - loss: -123.6066 - accuracy: 0.7047 - val_loss: -88.8847 - val_accuracy: 0.3680\n",
      "Epoch 9/10\n",
      "458/458 [==============================] - 138s 302ms/step - loss: -139.2608 - accuracy: 0.7038 - val_loss: -96.0633 - val_accuracy: 0.3633\n",
      "Epoch 10/10\n",
      "458/458 [==============================] - 127s 278ms/step - loss: -155.3906 - accuracy: 0.7069 - val_loss: -121.0034 - val_accuracy: 0.3660\n",
      "Epoch 1/10\n",
      "458/458 [==============================] - 135s 289ms/step - loss: -5.5186 - accuracy: 0.4584 - val_loss: -14.7867 - val_accuracy: 0.4780\n",
      "Epoch 2/10\n",
      "458/458 [==============================] - 143s 312ms/step - loss: -13.0992 - accuracy: 0.5685 - val_loss: -21.5500 - val_accuracy: 0.4940\n",
      "Epoch 3/10\n",
      "458/458 [==============================] - 146s 318ms/step - loss: -29.2457 - accuracy: 0.6511 - val_loss: -35.5265 - val_accuracy: 0.4993\n",
      "Epoch 4/10\n",
      "458/458 [==============================] - 164s 357ms/step - loss: -47.3044 - accuracy: 0.6785 - val_loss: -48.0339 - val_accuracy: 0.4940\n",
      "Epoch 5/10\n",
      "458/458 [==============================] - 146s 319ms/step - loss: -64.6521 - accuracy: 0.6896 - val_loss: -60.8335 - val_accuracy: 0.5007\n",
      "Epoch 6/10\n",
      "458/458 [==============================] - 141s 307ms/step - loss: -79.7773 - accuracy: 0.6932 - val_loss: -73.5567 - val_accuracy: 0.4587\n",
      "Epoch 7/10\n",
      "458/458 [==============================] - 160s 350ms/step - loss: -96.6250 - accuracy: 0.7007 - val_loss: -85.9635 - val_accuracy: 0.3587\n",
      "Epoch 8/10\n",
      "458/458 [==============================] - 155s 337ms/step - loss: -112.6909 - accuracy: 0.7054 - val_loss: -91.4452 - val_accuracy: 0.3580\n",
      "Epoch 9/10\n",
      "458/458 [==============================] - 155s 338ms/step - loss: -128.8186 - accuracy: 0.7061 - val_loss: -98.1818 - val_accuracy: 0.3580\n",
      "Epoch 10/10\n",
      "458/458 [==============================] - 153s 335ms/step - loss: -144.1755 - accuracy: 0.7067 - val_loss: -107.3730 - val_accuracy: 0.3587\n",
      "Epoch 1/10\n",
      "458/458 [==============================] - 153s 325ms/step - loss: -5.3502 - accuracy: 0.4610 - val_loss: 1.9881e-04 - val_accuracy: 0.3333\n",
      "Epoch 2/10\n",
      "458/458 [==============================] - 155s 338ms/step - loss: -7.6899 - accuracy: 0.4969 - val_loss: -22.1994 - val_accuracy: 0.4920\n",
      "Epoch 3/10\n",
      "458/458 [==============================] - 159s 348ms/step - loss: -29.0654 - accuracy: 0.6218 - val_loss: -36.9495 - val_accuracy: 0.4947\n",
      "Epoch 4/10\n",
      "458/458 [==============================] - 157s 343ms/step - loss: -43.0921 - accuracy: 0.6411 - val_loss: -50.8348 - val_accuracy: 0.5013\n",
      "Epoch 5/10\n",
      "458/458 [==============================] - 160s 349ms/step - loss: -52.1524 - accuracy: 0.6304 - val_loss: -33.4902 - val_accuracy: 0.4560\n",
      "Epoch 6/10\n",
      "458/458 [==============================] - 161s 352ms/step - loss: -55.5074 - accuracy: 0.6473 - val_loss: -63.1023 - val_accuracy: 0.4913\n",
      "Epoch 7/10\n",
      "458/458 [==============================] - 162s 353ms/step - loss: -82.4601 - accuracy: 0.6918 - val_loss: -78.6003 - val_accuracy: 0.4633\n",
      "Epoch 8/10\n",
      "458/458 [==============================] - 228s 497ms/step - loss: -103.7652 - accuracy: 0.6996 - val_loss: -85.7441 - val_accuracy: 0.4813\n",
      "Epoch 9/10\n",
      "458/458 [==============================] - 266s 581ms/step - loss: -122.2223 - accuracy: 0.7044 - val_loss: -112.1354 - val_accuracy: 0.4773\n",
      "Epoch 10/10\n",
      "458/458 [==============================] - 271s 591ms/step - loss: -138.0961 - accuracy: 0.7017 - val_loss: -121.0907 - val_accuracy: 0.4820\n"
     ]
    }
   ],
   "source": [
    "for _ in range(num_models):\n",
    "    model = Sequential()\n",
    "    model.add(Embedding(input_dim=len(tokenizer.word_index)+1, output_dim=100, input_length=max_seq_length))\n",
    "    model.add(LSTM(units=128))\n",
    "    model.add(Dense(units=1, activation='sigmoid'))\n",
    "    model.compile(loss='binary_crossentropy', optimizer='adam', metrics=['accuracy'])\n",
    "    model.fit(train_X, y_train, validation_data=(val_X, y_val), epochs=10, batch_size=32)\n",
    "    model_list.append(model)"
   ]
  },
  {
   "cell_type": "code",
   "execution_count": 10,
   "id": "9188b770",
   "metadata": {},
   "outputs": [
    {
     "name": "stdout",
     "output_type": "stream",
     "text": [
      "47/47 [==============================] - 3s 55ms/step\n",
      "47/47 [==============================] - 3s 54ms/step\n",
      "47/47 [==============================] - 3s 54ms/step\n",
      "47/47 [==============================] - 4s 54ms/step\n",
      "47/47 [==============================] - 3s 57ms/step\n"
     ]
    }
   ],
   "source": [
    "# Generate predictions for validation data\n",
    "val_predictions = []\n",
    "for model in model_list:\n",
    "    predictions = model.predict(val_X)\n",
    "    predicted_classes = np.argmax(predictions, axis=1)\n",
    "    val_predictions.append(predicted_classes)"
   ]
  },
  {
   "cell_type": "code",
   "execution_count": 11,
   "id": "1f0c71f7",
   "metadata": {},
   "outputs": [],
   "source": [
    "# Combine predictions using majority voting\n",
    "ensemble_val_predictions = np.round(np.mean(val_predictions, axis=0))"
   ]
  },
  {
   "cell_type": "code",
   "execution_count": 12,
   "id": "79222b74",
   "metadata": {},
   "outputs": [],
   "source": [
    "# Evaluate the ensemble predictions\n",
    "ensemble_val_accuracy = accuracy_score(y_val, ensemble_val_predictions)"
   ]
  },
  {
   "cell_type": "code",
   "execution_count": 13,
   "id": "14ef3f59",
   "metadata": {},
   "outputs": [
    {
     "name": "stdout",
     "output_type": "stream",
     "text": [
      "Ensemble Validation Accuracy: 0.3333333333333333\n"
     ]
    }
   ],
   "source": [
    "print(\"Ensemble Validation Accuracy:\", ensemble_val_accuracy)"
   ]
  },
  {
   "cell_type": "code",
   "execution_count": 14,
   "id": "31dc9870",
   "metadata": {},
   "outputs": [
    {
     "name": "stdout",
     "output_type": "stream",
     "text": [
      "71/71 [==============================] - 4s 61ms/step\n",
      "71/71 [==============================] - 4s 60ms/step\n",
      "71/71 [==============================] - 4s 60ms/step\n",
      "71/71 [==============================] - 4s 61ms/step\n",
      "71/71 [==============================] - 4s 60ms/step\n"
     ]
    }
   ],
   "source": [
    "# Generate predictions for test data\n",
    "test_predictions = []\n",
    "for model in model_list:\n",
    "    predictions = model.predict(test_X)\n",
    "    predicted_classes = np.argmax(predictions, axis=1)\n",
    "    test_predictions.append(predicted_classes)"
   ]
  },
  {
   "cell_type": "code",
   "execution_count": 15,
   "id": "de2b5ccf",
   "metadata": {},
   "outputs": [],
   "source": [
    "# Combine predictions using majority voting\n",
    "ensemble_test_predictions = np.round(np.mean(test_predictions, axis=0))"
   ]
  },
  {
   "cell_type": "code",
   "execution_count": 16,
   "id": "ae8b66ba",
   "metadata": {},
   "outputs": [],
   "source": [
    "# Evaluate the ensemble predictions\n",
    "ensemble_test_accuracy = accuracy_score(y_test, ensemble_test_predictions)"
   ]
  },
  {
   "cell_type": "code",
   "execution_count": 17,
   "id": "18e138c4",
   "metadata": {},
   "outputs": [
    {
     "name": "stdout",
     "output_type": "stream",
     "text": [
      "Ensemble Test Accuracy: 0.3333333333333333\n"
     ]
    }
   ],
   "source": [
    "print(\"Ensemble Test Accuracy:\", ensemble_test_accuracy)"
   ]
  },
  {
   "cell_type": "code",
   "execution_count": null,
   "id": "b6067fd8",
   "metadata": {},
   "outputs": [],
   "source": []
  }
 ],
 "metadata": {
  "kernelspec": {
   "display_name": "Python 3 (ipykernel)",
   "language": "python",
   "name": "python3"
  },
  "language_info": {
   "codemirror_mode": {
    "name": "ipython",
    "version": 3
   },
   "file_extension": ".py",
   "mimetype": "text/x-python",
   "name": "python",
   "nbconvert_exporter": "python",
   "pygments_lexer": "ipython3",
   "version": "3.7.9"
  }
 },
 "nbformat": 4,
 "nbformat_minor": 5
}
