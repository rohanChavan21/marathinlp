{
 "cells": [
  {
   "cell_type": "code",
   "execution_count": 1,
   "id": "a89dd3c0",
   "metadata": {},
   "outputs": [],
   "source": [
    "import pandas as pd\n",
    "import tensorflow as tf\n",
    "from tensorflow.keras.preprocessing.text import Tokenizer\n",
    "from tensorflow.keras.preprocessing.sequence import pad_sequences"
   ]
  },
  {
   "cell_type": "code",
   "execution_count": 2,
   "id": "6a382f4f",
   "metadata": {},
   "outputs": [],
   "source": [
    "# Load the datasets\n",
    "train_data = pd.read_csv('tweets-train.csv')\n",
    "test_data = pd.read_csv('tweets-test.csv')\n",
    "val_data = pd.read_csv('tweets-valid.csv')"
   ]
  },
  {
   "cell_type": "code",
   "execution_count": 3,
   "id": "1b4a7cc7",
   "metadata": {},
   "outputs": [],
   "source": [
    "# Preprocess the data\n",
    "X_train = train_data['tweet']\n",
    "y_train = train_data['label']\n",
    "X_test = test_data['tweet']\n",
    "y_test = test_data['label']\n",
    "X_val = val_data['tweet']\n",
    "y_val = val_data['label']"
   ]
  },
  {
   "cell_type": "code",
   "execution_count": 4,
   "id": "8d9606d9",
   "metadata": {},
   "outputs": [],
   "source": [
    "# Tokenize the text data\n",
    "tokenizer = Tokenizer()\n",
    "tokenizer.fit_on_texts(X_train)\n",
    "X_train_seq = tokenizer.texts_to_sequences(X_train)\n",
    "X_test_seq = tokenizer.texts_to_sequences(X_test)\n",
    "X_val_seq = tokenizer.texts_to_sequences(X_val)"
   ]
  },
  {
   "cell_type": "code",
   "execution_count": 5,
   "id": "90c2cf4b",
   "metadata": {},
   "outputs": [],
   "source": [
    "# Pad sequences to a fixed length\n",
    "max_length = 280  # maximum length of a tweet\n",
    "X_train_pad = pad_sequences(X_train_seq, maxlen=max_length, padding='post')\n",
    "X_test_pad = pad_sequences(X_test_seq, maxlen=max_length, padding='post')\n",
    "X_val_pad = pad_sequences(X_val_seq, maxlen=max_length, padding='post')"
   ]
  },
  {
   "cell_type": "code",
   "execution_count": 6,
   "id": "6f571fa5",
   "metadata": {},
   "outputs": [],
   "source": [
    "# Define the model architecture\n",
    "model = tf.keras.Sequential([\n",
    "    tf.keras.layers.Embedding(input_dim=len(tokenizer.word_index)+1, output_dim=100, input_length=max_length),\n",
    "    tf.keras.layers.Bidirectional(tf.keras.layers.GRU(64, return_sequences=True)),\n",
    "    tf.keras.layers.Bidirectional(tf.keras.layers.GRU(32)),\n",
    "    tf.keras.layers.Dense(64, activation='relu'),\n",
    "    tf.keras.layers.Dense(1, activation='sigmoid')\n",
    "])"
   ]
  },
  {
   "cell_type": "code",
   "execution_count": 7,
   "id": "96b8f969",
   "metadata": {},
   "outputs": [],
   "source": [
    "# Compile the model\n",
    "model.compile(loss='binary_crossentropy', optimizer='adam', metrics=['accuracy'])"
   ]
  },
  {
   "cell_type": "code",
   "execution_count": 8,
   "id": "d152a4b7",
   "metadata": {},
   "outputs": [
    {
     "name": "stdout",
     "output_type": "stream",
     "text": [
      "Epoch 1/10\n",
      "379/379 [==============================] - 135s 335ms/step - loss: -15.7441 - accuracy: 0.3733 - val_loss: -1.0350 - val_accuracy: 0.3333\n",
      "Epoch 2/10\n",
      "379/379 [==============================] - 116s 305ms/step - loss: -59.3981 - accuracy: 0.3782 - val_loss: -122.5490 - val_accuracy: 0.3660\n",
      "Epoch 3/10\n",
      "379/379 [==============================] - 122s 323ms/step - loss: -470.9320 - accuracy: 0.4453 - val_loss: -506.7262 - val_accuracy: 0.4107\n",
      "Epoch 4/10\n",
      "379/379 [==============================] - 126s 332ms/step - loss: -1324.6536 - accuracy: 0.5239 - val_loss: -1054.1523 - val_accuracy: 0.4247\n",
      "Epoch 5/10\n",
      "379/379 [==============================] - 121s 321ms/step - loss: -2638.8708 - accuracy: 0.4531 - val_loss: -2077.1497 - val_accuracy: 0.3333\n",
      "Epoch 6/10\n",
      "379/379 [==============================] - 141s 372ms/step - loss: -4425.0112 - accuracy: 0.4860 - val_loss: -3575.0879 - val_accuracy: 0.4553\n",
      "Epoch 7/10\n",
      "379/379 [==============================] - 183s 482ms/step - loss: -6520.2798 - accuracy: 0.5744 - val_loss: -4175.4111 - val_accuracy: 0.4413\n",
      "Epoch 8/10\n",
      "379/379 [==============================] - 177s 468ms/step - loss: -8151.6270 - accuracy: 0.5767 - val_loss: -5884.3452 - val_accuracy: 0.4440\n",
      "Epoch 9/10\n",
      "379/379 [==============================] - 180s 474ms/step - loss: -9157.7646 - accuracy: 0.5601 - val_loss: -4580.9365 - val_accuracy: 0.4313\n",
      "Epoch 10/10\n",
      "379/379 [==============================] - 177s 467ms/step - loss: -12563.5938 - accuracy: 0.5955 - val_loss: -9049.7949 - val_accuracy: 0.4853\n"
     ]
    },
    {
     "data": {
      "text/plain": [
       "<keras.callbacks.History at 0x2a1e08cdd08>"
      ]
     },
     "execution_count": 8,
     "metadata": {},
     "output_type": "execute_result"
    }
   ],
   "source": [
    "# Train the model\n",
    "model.fit(X_train_pad, y_train, epochs=10, batch_size=32, validation_data=(X_val_pad, y_val))"
   ]
  },
  {
   "cell_type": "code",
   "execution_count": 16,
   "id": "4ec41210",
   "metadata": {},
   "outputs": [
    {
     "name": "stdout",
     "output_type": "stream",
     "text": [
      "71/71 [==============================] - 5s 44ms/step - loss: 0.6920 - accuracy: 0.3200\n",
      "Test Loss: 0.6920239329338074\n",
      "Test Accuracy: 0.3199999928474426\n"
     ]
    }
   ],
   "source": [
    "# Evaluate the model on test data\n",
    "loss, accuracy = model.evaluate(X_test_pad, y_test)\n",
    "print('Test Loss:', loss)\n",
    "print('Test Accuracy:', accuracy)"
   ]
  },
  {
   "cell_type": "code",
   "execution_count": null,
   "id": "cd539ff2",
   "metadata": {},
   "outputs": [],
   "source": []
  }
 ],
 "metadata": {
  "kernelspec": {
   "display_name": "Python 3 (ipykernel)",
   "language": "python",
   "name": "python3"
  },
  "language_info": {
   "codemirror_mode": {
    "name": "ipython",
    "version": 3
   },
   "file_extension": ".py",
   "mimetype": "text/x-python",
   "name": "python",
   "nbconvert_exporter": "python",
   "pygments_lexer": "ipython3",
   "version": "3.7.9"
  }
 },
 "nbformat": 4,
 "nbformat_minor": 5
}
