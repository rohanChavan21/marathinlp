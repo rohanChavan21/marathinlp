{
 "cells": [
  {
   "cell_type": "code",
   "execution_count": 1,
   "id": "1fe06f63",
   "metadata": {},
   "outputs": [],
   "source": [
    "import pandas as pd\n",
    "import tensorflow as tf\n",
    "from tensorflow.keras.preprocessing.text import Tokenizer\n",
    "from tensorflow.keras.preprocessing.sequence import pad_sequences"
   ]
  },
  {
   "cell_type": "code",
   "execution_count": 2,
   "id": "2f9ee73d",
   "metadata": {},
   "outputs": [],
   "source": [
    "# Load the datasets\n",
    "train_data = pd.read_csv('tweets-ext.csv')\n",
    "test_data = pd.read_csv('tweets-test.csv')\n",
    "val_data = pd.read_csv('tweets-valid.csv')"
   ]
  },
  {
   "cell_type": "code",
   "execution_count": 3,
   "id": "13a04cd2",
   "metadata": {},
   "outputs": [],
   "source": [
    "# Preprocess the data\n",
    "X_train = train_data['tweet']\n",
    "y_train = train_data['label']\n",
    "X_test = test_data['tweet']\n",
    "y_test = test_data['label']\n",
    "X_val = val_data['tweet']\n",
    "y_val = val_data['label']"
   ]
  },
  {
   "cell_type": "code",
   "execution_count": 4,
   "id": "dbc480da",
   "metadata": {},
   "outputs": [],
   "source": [
    "# Tokenize the text data\n",
    "tokenizer = Tokenizer()\n",
    "tokenizer.fit_on_texts(X_train)\n",
    "X_train_seq = tokenizer.texts_to_sequences(X_train)\n",
    "X_test_seq = tokenizer.texts_to_sequences(X_test)\n",
    "X_val_seq = tokenizer.texts_to_sequences(X_val)"
   ]
  },
  {
   "cell_type": "code",
   "execution_count": 5,
   "id": "74d802af",
   "metadata": {},
   "outputs": [],
   "source": [
    "# Pad sequences to a fixed length\n",
    "max_length = 280  # maximum length of a tweet\n",
    "X_train_pad = pad_sequences(X_train_seq, maxlen=max_length, padding='post')\n",
    "X_test_pad = pad_sequences(X_test_seq, maxlen=max_length, padding='post')\n",
    "X_val_pad = pad_sequences(X_val_seq, maxlen=max_length, padding='post')"
   ]
  },
  {
   "cell_type": "code",
   "execution_count": 6,
   "id": "9f0da5ca",
   "metadata": {},
   "outputs": [],
   "source": [
    "model = tf.keras.Sequential([\n",
    "    tf.keras.layers.Embedding(input_dim=len(tokenizer.word_index) + 1, output_dim=100, input_length=max_length),\n",
    "    tf.keras.layers.Bidirectional(tf.keras.layers.GRU(128, return_sequences=True)),\n",
    "    tf.keras.layers.Bidirectional(tf.keras.layers.GRU(64, return_sequences=True)),\n",
    "    tf.keras.layers.Bidirectional(tf.keras.layers.GRU(32)),\n",
    "    tf.keras.layers.Dense(128, activation='relu'),\n",
    "    tf.keras.layers.Dropout(0.5),\n",
    "    tf.keras.layers.Dense(64, activation='relu'),\n",
    "    tf.keras.layers.Dropout(0.5),\n",
    "    tf.keras.layers.Dense(1, activation='sigmoid')\n",
    "])\n"
   ]
  },
  {
   "cell_type": "code",
   "execution_count": 7,
   "id": "89833a0c",
   "metadata": {},
   "outputs": [],
   "source": [
    "# Compile the model\n",
    "model.compile(loss='binary_crossentropy', optimizer='adam', metrics=['accuracy'])"
   ]
  },
  {
   "cell_type": "code",
   "execution_count": 8,
   "id": "dc722634",
   "metadata": {},
   "outputs": [
    {
     "name": "stdout",
     "output_type": "stream",
     "text": [
      "Epoch 1/10\n",
      "458/458 [==============================] - 305s 646ms/step - loss: -262.7709 - accuracy: 0.3887 - val_loss: -2698.2651 - val_accuracy: 0.4673\n",
      "Epoch 2/10\n",
      "458/458 [==============================] - 255s 557ms/step - loss: -5037.4077 - accuracy: 0.4305 - val_loss: -70.9851 - val_accuracy: 0.4147\n",
      "Epoch 3/10\n",
      "458/458 [==============================] - 561s 1s/step - loss: -824.5348 - accuracy: 0.3878 - val_loss: -2255.9189 - val_accuracy: 0.3333\n",
      "Epoch 4/10\n",
      "458/458 [==============================] - 574s 1s/step - loss: -3335.8699 - accuracy: 0.3728 - val_loss: -6536.2339 - val_accuracy: 0.3333\n",
      "Epoch 5/10\n",
      "458/458 [==============================] - 694s 2s/step - loss: -7775.8462 - accuracy: 0.3695 - val_loss: -13987.1035 - val_accuracy: 0.3333\n",
      "Epoch 6/10\n",
      "458/458 [==============================] - 753s 2s/step - loss: -13046.5488 - accuracy: 0.3403 - val_loss: -24666.3887 - val_accuracy: 0.3333\n",
      "Epoch 7/10\n",
      "458/458 [==============================] - 569s 1s/step - loss: -21460.6035 - accuracy: 0.3504 - val_loss: -40142.4492 - val_accuracy: 0.3333\n",
      "Epoch 8/10\n",
      "458/458 [==============================] - 554s 1s/step - loss: -31162.3809 - accuracy: 0.3465 - val_loss: -59595.8789 - val_accuracy: 0.3333\n",
      "Epoch 9/10\n",
      "458/458 [==============================] - 547s 1s/step - loss: -39793.6875 - accuracy: 0.3171 - val_loss: -72896.1094 - val_accuracy: 0.3333\n",
      "Epoch 10/10\n",
      "458/458 [==============================] - 556s 1s/step - loss: -32560.5059 - accuracy: 0.2961 - val_loss: -99382.5078 - val_accuracy: 0.3333\n"
     ]
    },
    {
     "data": {
      "text/plain": [
       "<keras.callbacks.History at 0x29455344e48>"
      ]
     },
     "execution_count": 8,
     "metadata": {},
     "output_type": "execute_result"
    }
   ],
   "source": [
    "# Train the model\n",
    "model.fit(X_train_pad, y_train, epochs=10, batch_size=32, validation_data=(X_val_pad, y_val))"
   ]
  },
  {
   "cell_type": "code",
   "execution_count": 9,
   "id": "65e61b81",
   "metadata": {},
   "outputs": [
    {
     "name": "stdout",
     "output_type": "stream",
     "text": [
      "71/71 [==============================] - 35s 494ms/step - loss: -98492.8984 - accuracy: 0.3333\n",
      "Test Loss: -98492.8984375\n",
      "Test Accuracy: 0.3333333432674408\n"
     ]
    }
   ],
   "source": [
    "# Evaluate the model on test data\n",
    "loss, accuracy = model.evaluate(X_test_pad, y_test)\n",
    "print('Test Loss:', loss)\n",
    "print('Test Accuracy:', accuracy)"
   ]
  },
  {
   "cell_type": "code",
   "execution_count": null,
   "id": "87bb4ea5",
   "metadata": {},
   "outputs": [],
   "source": []
  }
 ],
 "metadata": {
  "kernelspec": {
   "display_name": "Python 3 (ipykernel)",
   "language": "python",
   "name": "python3"
  },
  "language_info": {
   "codemirror_mode": {
    "name": "ipython",
    "version": 3
   },
   "file_extension": ".py",
   "mimetype": "text/x-python",
   "name": "python",
   "nbconvert_exporter": "python",
   "pygments_lexer": "ipython3",
   "version": "3.7.9"
  }
 },
 "nbformat": 4,
 "nbformat_minor": 5
}
