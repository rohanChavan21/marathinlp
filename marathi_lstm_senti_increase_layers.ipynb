{
 "cells": [
  {
   "cell_type": "code",
   "execution_count": 1,
   "id": "30cad1c3",
   "metadata": {},
   "outputs": [],
   "source": [
    "import pandas as pd\n",
    "import numpy as np\n",
    "from tensorflow.keras.preprocessing.text import Tokenizer\n",
    "from tensorflow.keras.preprocessing.sequence import pad_sequences\n",
    "from tensorflow.keras.models import Sequential\n",
    "from tensorflow.keras.layers import Embedding, LSTM, Dense"
   ]
  },
  {
   "cell_type": "code",
   "execution_count": 3,
   "id": "b4eed189",
   "metadata": {},
   "outputs": [],
   "source": [
    "# Load the data\n",
    "train_data = pd.read_csv('tweets-ext.csv')\n",
    "valid_data = pd.read_csv('tweets-valid.csv')\n",
    "test_data = pd.read_csv('tweets-test.csv')"
   ]
  },
  {
   "cell_type": "code",
   "execution_count": 4,
   "id": "a76d5315",
   "metadata": {},
   "outputs": [],
   "source": [
    "# Extract the text and labels\n",
    "train_tweets = train_data['tweet'].tolist()\n",
    "train_labels = train_data['label'].tolist()\n",
    "valid_tweets = valid_data['tweet'].tolist()\n",
    "valid_labels = valid_data['label'].tolist()\n",
    "test_tweets = test_data['tweet'].tolist()\n",
    "test_labels = test_data['label'].tolist()"
   ]
  },
  {
   "cell_type": "code",
   "execution_count": 5,
   "id": "21ee97dc",
   "metadata": {},
   "outputs": [],
   "source": [
    "# Tokenize the text\n",
    "tokenizer = Tokenizer()\n",
    "tokenizer.fit_on_texts(train_tweets + valid_tweets + test_tweets)\n",
    "\n",
    "# Convert text sequences to numerical sequences\n",
    "train_sequences = tokenizer.texts_to_sequences(train_tweets)\n",
    "valid_sequences = tokenizer.texts_to_sequences(valid_tweets)\n",
    "test_sequences = tokenizer.texts_to_sequences(test_tweets)"
   ]
  },
  {
   "cell_type": "code",
   "execution_count": 7,
   "id": "dc8a5dbe",
   "metadata": {},
   "outputs": [],
   "source": [
    "# Pad the sequences to a fixed length\n",
    "max_seq_length = 280\n",
    "train_X = pad_sequences(train_sequences, maxlen=max_seq_length)\n",
    "valid_X = pad_sequences(valid_sequences, maxlen=max_seq_length)\n",
    "test_X = pad_sequences(test_sequences, maxlen=max_seq_length)"
   ]
  },
  {
   "cell_type": "code",
   "execution_count": 8,
   "id": "2d227944",
   "metadata": {},
   "outputs": [],
   "source": [
    "# Convert labels to numpy arrays\n",
    "train_y = np.array(train_labels)\n",
    "valid_y = np.array(valid_labels)\n",
    "test_y = np.array(test_labels)"
   ]
  },
  {
   "cell_type": "code",
   "execution_count": 9,
   "id": "5059c6d2",
   "metadata": {},
   "outputs": [],
   "source": [
    "# Define the model architecture\n",
    "vocab_size = len(tokenizer.word_index) + 1\n",
    "embedding_dim = 280"
   ]
  },
  {
   "cell_type": "code",
   "execution_count": 11,
   "id": "c32dc50e",
   "metadata": {},
   "outputs": [],
   "source": [
    "model = Sequential()\n",
    "model.add(Embedding(input_dim=vocab_size, output_dim=embedding_dim, input_length=max_seq_length))\n",
    "model.add(LSTM(units=128, return_sequences=True))  # Add an additional LSTM layer\n",
    "model.add(LSTM(units=64))  # Add another LSTM layer\n",
    "model.add(Dense(units=32, activation='relu'))  # Add a dense hidden layer\n",
    "model.add(Dense(units=1, activation='sigmoid'))"
   ]
  },
  {
   "cell_type": "code",
   "execution_count": 12,
   "id": "14ef79b2",
   "metadata": {},
   "outputs": [],
   "source": [
    "# Compile the model\n",
    "model.compile(loss='binary_crossentropy', optimizer='adam', metrics=['accuracy'])"
   ]
  },
  {
   "cell_type": "code",
   "execution_count": 13,
   "id": "9e921823",
   "metadata": {},
   "outputs": [
    {
     "name": "stdout",
     "output_type": "stream",
     "text": [
      "Epoch 1/10\n",
      "458/458 [==============================] - 333s 710ms/step - loss: -2.3766 - accuracy: 0.3990 - val_loss: -22.8520 - val_accuracy: 0.4313\n",
      "Epoch 2/10\n",
      "458/458 [==============================] - 325s 710ms/step - loss: -123.2038 - accuracy: 0.5631 - val_loss: -267.5577 - val_accuracy: 0.4947\n",
      "Epoch 3/10\n",
      "458/458 [==============================] - 289s 630ms/step - loss: -538.2787 - accuracy: 0.6519 - val_loss: -615.3148 - val_accuracy: 0.4573\n",
      "Epoch 4/10\n",
      "458/458 [==============================] - 249s 544ms/step - loss: -1150.6252 - accuracy: 0.6662 - val_loss: -1249.3640 - val_accuracy: 0.4647\n",
      "Epoch 5/10\n",
      "458/458 [==============================] - 266s 581ms/step - loss: -1914.0636 - accuracy: 0.6675 - val_loss: -1743.7235 - val_accuracy: 0.4893\n",
      "Epoch 6/10\n",
      "458/458 [==============================] - 249s 543ms/step - loss: -2815.1624 - accuracy: 0.6802 - val_loss: -1820.1169 - val_accuracy: 0.5113\n",
      "Epoch 7/10\n",
      "458/458 [==============================] - 246s 538ms/step - loss: -3839.4387 - accuracy: 0.6974 - val_loss: -1775.3260 - val_accuracy: 0.4100\n",
      "Epoch 8/10\n",
      "458/458 [==============================] - 240s 524ms/step - loss: -4968.6978 - accuracy: 0.6992 - val_loss: -2476.4231 - val_accuracy: 0.4880\n",
      "Epoch 9/10\n",
      "458/458 [==============================] - 247s 539ms/step - loss: -6211.9878 - accuracy: 0.7002 - val_loss: -3744.0427 - val_accuracy: 0.4867\n",
      "Epoch 10/10\n",
      "458/458 [==============================] - 254s 554ms/step - loss: -7557.8530 - accuracy: 0.7047 - val_loss: -5291.7837 - val_accuracy: 0.4907\n"
     ]
    },
    {
     "data": {
      "text/plain": [
       "<keras.callbacks.History at 0x22c021afd88>"
      ]
     },
     "execution_count": 13,
     "metadata": {},
     "output_type": "execute_result"
    }
   ],
   "source": [
    "# Train the model\n",
    "model.fit(train_X, train_y, validation_data=(valid_X, valid_y), epochs=10, batch_size=32)"
   ]
  },
  {
   "cell_type": "code",
   "execution_count": 14,
   "id": "f61d66f9",
   "metadata": {},
   "outputs": [
    {
     "name": "stdout",
     "output_type": "stream",
     "text": [
      "71/71 [==============================] - 14s 194ms/step - loss: -5378.4380 - accuracy: 0.4578\n",
      "Test Loss: -5378.43798828125\n",
      "Test Accuracy: 0.4577777683734894\n"
     ]
    }
   ],
   "source": [
    "# Evaluate the model\n",
    "loss, accuracy = model.evaluate(test_X, test_y)\n",
    "print('Test Loss:', loss)\n",
    "print('Test Accuracy:', accuracy)"
   ]
  },
  {
   "cell_type": "code",
   "execution_count": null,
   "id": "a2f10269",
   "metadata": {},
   "outputs": [],
   "source": []
  }
 ],
 "metadata": {
  "kernelspec": {
   "display_name": "Python 3 (ipykernel)",
   "language": "python",
   "name": "python3"
  },
  "language_info": {
   "codemirror_mode": {
    "name": "ipython",
    "version": 3
   },
   "file_extension": ".py",
   "mimetype": "text/x-python",
   "name": "python",
   "nbconvert_exporter": "python",
   "pygments_lexer": "ipython3",
   "version": "3.7.9"
  }
 },
 "nbformat": 4,
 "nbformat_minor": 5
}
