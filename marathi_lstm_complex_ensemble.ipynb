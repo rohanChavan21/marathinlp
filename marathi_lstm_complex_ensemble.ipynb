{
 "cells": [
  {
   "cell_type": "code",
   "execution_count": 1,
   "id": "e6d063a8",
   "metadata": {},
   "outputs": [],
   "source": [
    "import pandas as pd\n",
    "import numpy as np\n",
    "from tensorflow.keras.preprocessing.text import Tokenizer\n",
    "from tensorflow.keras.preprocessing.sequence import pad_sequences\n",
    "from tensorflow.keras.models import Sequential\n",
    "from tensorflow.keras.layers import Embedding, LSTM, Dense, Dropout\n",
    "from sklearn.metrics import accuracy_score"
   ]
  },
  {
   "cell_type": "code",
   "execution_count": 2,
   "id": "d394bdda",
   "metadata": {},
   "outputs": [],
   "source": [
    "# Load the datasets\n",
    "train_data = pd.read_csv('tweets-ext.csv')\n",
    "test_data = pd.read_csv('tweets-test.csv')\n",
    "val_data = pd.read_csv('tweets-valid.csv')"
   ]
  },
  {
   "cell_type": "code",
   "execution_count": 3,
   "id": "3c1c2fc2",
   "metadata": {},
   "outputs": [],
   "source": [
    "# Preprocess the data\n",
    "X_train = train_data['tweet']\n",
    "y_train = train_data['label']\n",
    "X_test = test_data['tweet']\n",
    "y_test = test_data['label']\n",
    "X_val = val_data['tweet']\n",
    "y_val = val_data['label']"
   ]
  },
  {
   "cell_type": "code",
   "execution_count": 4,
   "id": "6c6ccda6",
   "metadata": {},
   "outputs": [],
   "source": [
    "# Tokenize the text\n",
    "tokenizer = Tokenizer()\n",
    "tokenizer.fit_on_texts(X_train)"
   ]
  },
  {
   "cell_type": "code",
   "execution_count": 5,
   "id": "33986a30",
   "metadata": {},
   "outputs": [],
   "source": [
    "# Convert text sequences to numerical sequences\n",
    "train_sequences = tokenizer.texts_to_sequences(X_train)\n",
    "test_sequences = tokenizer.texts_to_sequences(X_test)\n",
    "val_sequences = tokenizer.texts_to_sequences(X_val)"
   ]
  },
  {
   "cell_type": "code",
   "execution_count": 6,
   "id": "b92c6d90",
   "metadata": {},
   "outputs": [],
   "source": [
    "# Pad the sequences to a fixed length\n",
    "max_seq_length = 280\n",
    "train_X = pad_sequences(train_sequences, maxlen=max_seq_length)\n",
    "test_X = pad_sequences(test_sequences, maxlen=max_seq_length)\n",
    "val_X = pad_sequences(val_sequences, maxlen=max_seq_length)"
   ]
  },
  {
   "cell_type": "code",
   "execution_count": 7,
   "id": "a0bab76c",
   "metadata": {},
   "outputs": [],
   "source": [
    "# Define the ensemble models\n",
    "num_models = 5\n",
    "model_list = []"
   ]
  },
  {
   "cell_type": "code",
   "execution_count": 8,
   "id": "491ed5e7",
   "metadata": {},
   "outputs": [
    {
     "name": "stdout",
     "output_type": "stream",
     "text": [
      "Epoch 1/10\n",
      "458/458 [==============================] - 285s 588ms/step - loss: -45.6885 - accuracy: 0.4660 - val_loss: -163.3452 - val_accuracy: 0.5007\n",
      "Epoch 2/10\n",
      "458/458 [==============================] - 301s 656ms/step - loss: -455.4096 - accuracy: 0.5451 - val_loss: -877.8502 - val_accuracy: 0.4407\n",
      "Epoch 3/10\n",
      "458/458 [==============================] - 367s 801ms/step - loss: -1419.9233 - accuracy: 0.5986 - val_loss: -1931.8890 - val_accuracy: 0.4807\n",
      "Epoch 4/10\n",
      "458/458 [==============================] - 429s 937ms/step - loss: -2917.7478 - accuracy: 0.6519 - val_loss: -3548.2612 - val_accuracy: 0.5033\n",
      "Epoch 5/10\n",
      "458/458 [==============================] - 541s 1s/step - loss: -4752.8804 - accuracy: 0.6601 - val_loss: -4989.6572 - val_accuracy: 0.5033\n",
      "Epoch 6/10\n",
      "458/458 [==============================] - 373s 815ms/step - loss: -6928.6343 - accuracy: 0.6753 - val_loss: -6369.2227 - val_accuracy: 0.5053\n",
      "Epoch 7/10\n",
      "458/458 [==============================] - 376s 822ms/step - loss: -9384.6826 - accuracy: 0.6689 - val_loss: -9726.2178 - val_accuracy: 0.4927\n",
      "Epoch 8/10\n",
      "458/458 [==============================] - 392s 855ms/step - loss: -11888.1035 - accuracy: 0.6340 - val_loss: -10342.7949 - val_accuracy: 0.4673\n",
      "Epoch 9/10\n",
      "458/458 [==============================] - 370s 808ms/step - loss: -14826.1592 - accuracy: 0.6364 - val_loss: -13193.6211 - val_accuracy: 0.4893\n",
      "Epoch 10/10\n",
      "458/458 [==============================] - 400s 874ms/step - loss: -18199.8398 - accuracy: 0.6872 - val_loss: -16515.7930 - val_accuracy: 0.4920\n",
      "Epoch 1/10\n",
      "458/458 [==============================] - 278s 575ms/step - loss: -1.7617 - accuracy: 0.3491 - val_loss: -34.1429 - val_accuracy: 0.4620\n",
      "Epoch 2/10\n",
      "458/458 [==============================] - 268s 586ms/step - loss: -291.5691 - accuracy: 0.5366 - val_loss: -743.3743 - val_accuracy: 0.4767\n",
      "Epoch 3/10\n",
      "458/458 [==============================] - 233s 509ms/step - loss: -1428.5411 - accuracy: 0.5926 - val_loss: -1961.2357 - val_accuracy: 0.4567\n",
      "Epoch 4/10\n",
      "458/458 [==============================] - 236s 515ms/step - loss: -3146.7136 - accuracy: 0.6208 - val_loss: -3765.3696 - val_accuracy: 0.4653\n",
      "Epoch 5/10\n",
      "458/458 [==============================] - 245s 534ms/step - loss: -5325.9194 - accuracy: 0.6574 - val_loss: -4979.1665 - val_accuracy: 0.3500\n",
      "Epoch 6/10\n",
      "458/458 [==============================] - 269s 588ms/step - loss: -7612.1973 - accuracy: 0.6522 - val_loss: -6799.3481 - val_accuracy: 0.3460\n",
      "Epoch 7/10\n",
      "458/458 [==============================] - 286s 625ms/step - loss: -10644.9834 - accuracy: 0.6697 - val_loss: -9070.8438 - val_accuracy: 0.4000\n",
      "Epoch 8/10\n",
      "458/458 [==============================] - 339s 741ms/step - loss: -13849.7344 - accuracy: 0.6734 - val_loss: -12453.7920 - val_accuracy: 0.3427\n",
      "Epoch 9/10\n",
      "458/458 [==============================] - 373s 815ms/step - loss: -17333.4922 - accuracy: 0.6812 - val_loss: -15842.0723 - val_accuracy: 0.3553\n",
      "Epoch 10/10\n",
      "458/458 [==============================] - 351s 766ms/step - loss: -21142.4570 - accuracy: 0.6905 - val_loss: -19572.5352 - val_accuracy: 0.3567\n",
      "Epoch 1/10\n",
      "458/458 [==============================] - 347s 716ms/step - loss: -3.1822 - accuracy: 0.3934 - val_loss: -39.3278 - val_accuracy: 0.4867\n",
      "Epoch 2/10\n",
      "458/458 [==============================] - 305s 665ms/step - loss: -235.8579 - accuracy: 0.5559 - val_loss: -571.7095 - val_accuracy: 0.4820\n",
      "Epoch 3/10\n",
      "458/458 [==============================] - 277s 604ms/step - loss: -1081.4159 - accuracy: 0.6317 - val_loss: -1513.0763 - val_accuracy: 0.4707\n",
      "Epoch 4/10\n",
      "458/458 [==============================] - 419s 916ms/step - loss: -2440.9778 - accuracy: 0.6565 - val_loss: -2438.2021 - val_accuracy: 0.3867\n",
      "Epoch 5/10\n",
      "458/458 [==============================] - 487s 1s/step - loss: -4175.7446 - accuracy: 0.6722 - val_loss: -3000.8679 - val_accuracy: 0.3827\n",
      "Epoch 6/10\n",
      "458/458 [==============================] - 447s 977ms/step - loss: -6266.0239 - accuracy: 0.6923 - val_loss: -5433.7979 - val_accuracy: 0.4353\n",
      "Epoch 7/10\n",
      "458/458 [==============================] - 453s 988ms/step - loss: -8584.9336 - accuracy: 0.6971 - val_loss: -7123.0928 - val_accuracy: 0.4400\n",
      "Epoch 8/10\n",
      "458/458 [==============================] - 436s 951ms/step - loss: -11203.6367 - accuracy: 0.6928 - val_loss: -7983.4048 - val_accuracy: 0.4320\n",
      "Epoch 9/10\n",
      "458/458 [==============================] - 260s 566ms/step - loss: -14016.3760 - accuracy: 0.6946 - val_loss: -10099.9131 - val_accuracy: 0.4440\n",
      "Epoch 10/10\n",
      "458/458 [==============================] - 234s 510ms/step - loss: -17209.2812 - accuracy: 0.7002 - val_loss: -11104.3965 - val_accuracy: 0.4160\n",
      "Epoch 1/10\n",
      "458/458 [==============================] - 234s 493ms/step - loss: -24.9485 - accuracy: 0.3922 - val_loss: -148.9821 - val_accuracy: 0.4593\n",
      "Epoch 2/10\n",
      "458/458 [==============================] - 228s 497ms/step - loss: -369.5555 - accuracy: 0.5333 - val_loss: -797.8955 - val_accuracy: 0.4767\n",
      "Epoch 3/10\n",
      "458/458 [==============================] - 227s 495ms/step - loss: -1238.8025 - accuracy: 0.5838 - val_loss: -1760.3083 - val_accuracy: 0.4707\n",
      "Epoch 4/10\n",
      "458/458 [==============================] - 229s 500ms/step - loss: -2625.9458 - accuracy: 0.6142 - val_loss: -3336.9666 - val_accuracy: 0.4760\n",
      "Epoch 5/10\n",
      "458/458 [==============================] - 242s 527ms/step - loss: -4404.9419 - accuracy: 0.6375 - val_loss: -4635.9404 - val_accuracy: 0.4780\n",
      "Epoch 6/10\n",
      "458/458 [==============================] - 243s 532ms/step - loss: -6508.9414 - accuracy: 0.6478 - val_loss: -7141.1846 - val_accuracy: 0.4533\n",
      "Epoch 7/10\n",
      "458/458 [==============================] - 249s 544ms/step - loss: -9090.8564 - accuracy: 0.6666 - val_loss: -10020.2754 - val_accuracy: 0.4600\n",
      "Epoch 8/10\n",
      "458/458 [==============================] - 253s 552ms/step - loss: -11943.9697 - accuracy: 0.6631 - val_loss: -12483.3213 - val_accuracy: 0.4847\n",
      "Epoch 9/10\n",
      "458/458 [==============================] - 262s 572ms/step - loss: -15087.4375 - accuracy: 0.6706 - val_loss: -15721.8877 - val_accuracy: 0.4880\n",
      "Epoch 10/10\n",
      "458/458 [==============================] - 259s 565ms/step - loss: -18681.6016 - accuracy: 0.6806 - val_loss: -18235.4590 - val_accuracy: 0.4747\n",
      "Epoch 1/10\n",
      "458/458 [==============================] - 253s 533ms/step - loss: -28.5931 - accuracy: 0.4368 - val_loss: -1.6406e-04 - val_accuracy: 0.3333\n",
      "Epoch 2/10\n",
      "458/458 [==============================] - 244s 533ms/step - loss: 39.1135 - accuracy: 0.2818 - val_loss: -1.0893e-04 - val_accuracy: 0.3333\n",
      "Epoch 3/10\n",
      "458/458 [==============================] - 249s 544ms/step - loss: 11.4031 - accuracy: 0.2961 - val_loss: -1.0592e-04 - val_accuracy: 0.3333\n",
      "Epoch 4/10\n",
      "458/458 [==============================] - 267s 582ms/step - loss: 6.3971 - accuracy: 0.3030 - val_loss: -7.2014e-04 - val_accuracy: 0.3333\n",
      "Epoch 5/10\n",
      "458/458 [==============================] - 290s 634ms/step - loss: 3.0571 - accuracy: 0.3127 - val_loss: -6.1067 - val_accuracy: 0.4573\n",
      "Epoch 6/10\n",
      "458/458 [==============================] - 288s 628ms/step - loss: -137.7245 - accuracy: 0.6010 - val_loss: -343.3198 - val_accuracy: 0.4407\n",
      "Epoch 7/10\n",
      "458/458 [==============================] - 291s 635ms/step - loss: -1005.3367 - accuracy: 0.6575 - val_loss: -1429.1621 - val_accuracy: 0.4800\n",
      "Epoch 8/10\n",
      "458/458 [==============================] - 289s 632ms/step - loss: -2576.5723 - accuracy: 0.6768 - val_loss: -2415.0542 - val_accuracy: 0.3827\n",
      "Epoch 9/10\n",
      "458/458 [==============================] - 290s 634ms/step - loss: -4515.5679 - accuracy: 0.6882 - val_loss: -3856.1880 - val_accuracy: 0.3853\n",
      "Epoch 10/10\n",
      "458/458 [==============================] - 288s 629ms/step - loss: -6614.8062 - accuracy: 0.6857 - val_loss: -4397.2871 - val_accuracy: 0.3647\n"
     ]
    }
   ],
   "source": [
    "for _ in range(num_models):\n",
    "    model = Sequential()\n",
    "    model.add(Embedding(input_dim=len(tokenizer.word_index)+1, output_dim=100, input_length=max_seq_length))\n",
    "    model.add(LSTM(units=128, return_sequences=True))\n",
    "    model.add(LSTM(units=64))\n",
    "    model.add(Dense(units=64, activation='relu'))\n",
    "    model.add(Dropout(0.5))\n",
    "    model.add(Dense(units=1, activation='sigmoid'))\n",
    "    model.compile(loss='binary_crossentropy', optimizer='adam', metrics=['accuracy'])\n",
    "    model.fit(train_X, y_train, validation_data=(val_X, y_val), epochs=10, batch_size=32)\n",
    "    model_list.append(model)"
   ]
  },
  {
   "cell_type": "code",
   "execution_count": 11,
   "id": "3e601d28",
   "metadata": {},
   "outputs": [
    {
     "name": "stdout",
     "output_type": "stream",
     "text": [
      "47/47 [==============================] - 8s 127ms/step\n",
      "47/47 [==============================] - 8s 123ms/step\n",
      "47/47 [==============================] - 9s 122ms/step\n",
      "47/47 [==============================] - 8s 123ms/step\n",
      "47/47 [==============================] - 8s 125ms/step\n"
     ]
    }
   ],
   "source": [
    "# Generate predictions for validation data\n",
    "val_predictions = []\n",
    "for model in model_list:\n",
    "    predictions = model.predict(val_X)\n",
    "    predicted_classes = np.argmax(predictions, axis=1)\n",
    "    val_predictions.append(predicted_classes)"
   ]
  },
  {
   "cell_type": "code",
   "execution_count": 12,
   "id": "be5f780d",
   "metadata": {},
   "outputs": [],
   "source": [
    "# Combine predictions using majority voting\n",
    "ensemble_val_predictions = np.round(np.mean(val_predictions, axis=0))"
   ]
  },
  {
   "cell_type": "code",
   "execution_count": 13,
   "id": "85080243",
   "metadata": {},
   "outputs": [],
   "source": [
    "# Evaluate the ensemble predictions\n",
    "ensemble_val_accuracy = accuracy_score(y_val, ensemble_val_predictions)"
   ]
  },
  {
   "cell_type": "code",
   "execution_count": 14,
   "id": "49df6187",
   "metadata": {},
   "outputs": [
    {
     "name": "stdout",
     "output_type": "stream",
     "text": [
      "Ensemble Validation Accuracy: 0.3333333333333333\n"
     ]
    }
   ],
   "source": [
    "print(\"Ensemble Validation Accuracy:\", ensemble_val_accuracy)"
   ]
  },
  {
   "cell_type": "code",
   "execution_count": 16,
   "id": "6f72a888",
   "metadata": {},
   "outputs": [
    {
     "name": "stdout",
     "output_type": "stream",
     "text": [
      "71/71 [==============================] - 9s 126ms/step\n",
      "71/71 [==============================] - 9s 124ms/step\n",
      "71/71 [==============================] - 9s 124ms/step\n",
      "71/71 [==============================] - 9s 124ms/step\n",
      "71/71 [==============================] - 9s 125ms/step\n"
     ]
    }
   ],
   "source": [
    "# Generate predictions for test data\n",
    "test_predictions = []\n",
    "for model in model_list:\n",
    "    predictions = model.predict(test_X)\n",
    "    predicted_classes = np.argmax(predictions, axis=1)\n",
    "    test_predictions.append(predicted_classes)"
   ]
  },
  {
   "cell_type": "code",
   "execution_count": 17,
   "id": "c3a99417",
   "metadata": {},
   "outputs": [],
   "source": [
    "# Combine predictions using majority voting\n",
    "ensemble_test_predictions = np.round(np.mean(test_predictions, axis=0))"
   ]
  },
  {
   "cell_type": "code",
   "execution_count": 18,
   "id": "dc8bc160",
   "metadata": {},
   "outputs": [],
   "source": [
    "# Evaluate the ensemble predictions\n",
    "ensemble_test_accuracy = accuracy_score(y_test, ensemble_test_predictions)"
   ]
  },
  {
   "cell_type": "code",
   "execution_count": 19,
   "id": "18e9a6d4",
   "metadata": {},
   "outputs": [
    {
     "name": "stdout",
     "output_type": "stream",
     "text": [
      "Ensemble Test Accuracy: 0.3333333333333333\n"
     ]
    }
   ],
   "source": [
    "print(\"Ensemble Test Accuracy:\", ensemble_test_accuracy)"
   ]
  },
  {
   "cell_type": "code",
   "execution_count": null,
   "id": "3a119321",
   "metadata": {},
   "outputs": [],
   "source": []
  }
 ],
 "metadata": {
  "kernelspec": {
   "display_name": "Python 3 (ipykernel)",
   "language": "python",
   "name": "python3"
  },
  "language_info": {
   "codemirror_mode": {
    "name": "ipython",
    "version": 3
   },
   "file_extension": ".py",
   "mimetype": "text/x-python",
   "name": "python",
   "nbconvert_exporter": "python",
   "pygments_lexer": "ipython3",
   "version": "3.7.9"
  }
 },
 "nbformat": 4,
 "nbformat_minor": 5
}
